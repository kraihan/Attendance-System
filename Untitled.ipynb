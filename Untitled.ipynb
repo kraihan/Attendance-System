{
 "cells": [
  {
   "cell_type": "code",
   "execution_count": 1,
   "id": "94b7c31f",
   "metadata": {},
   "outputs": [],
   "source": [
    "import cv2\n",
    "import os\n",
    "from flask import Flask,request,render_template\n",
    "from datetime import date\n",
    "from datetime import datetime\n",
    "import numpy as np\n",
    "from sklearn.neighbors import KNeighborsClassifier\n",
    "import pandas as pd\n",
    "import joblib"
   ]
  },
  {
   "cell_type": "code",
   "execution_count": 2,
   "id": "56a4b2f6",
   "metadata": {},
   "outputs": [],
   "source": [
    "\n",
    "#### Saving Date today in 2 different formats\n",
    "datetoday = date.today().strftime(\"%m_%d_%y\")\n",
    "datetoday2 = date.today().strftime(\"%d-%B-%Y\")\n",
    "\n",
    "\n",
    "#### Initializing VideoCapture object to access WebCam\n",
    "face_detector = cv2.CascadeClassifier('static/haarcascade_frontalface_default.xml')\n",
    "cap = cv2.VideoCapture(0)\n"
   ]
  },
  {
   "cell_type": "code",
   "execution_count": null,
   "id": "c7343d36",
   "metadata": {},
   "outputs": [],
   "source": []
  }
 ],
 "metadata": {
  "kernelspec": {
   "display_name": "Python 3 (ipykernel)",
   "language": "python",
   "name": "python3"
  },
  "language_info": {
   "codemirror_mode": {
    "name": "ipython",
    "version": 3
   },
   "file_extension": ".py",
   "mimetype": "text/x-python",
   "name": "python",
   "nbconvert_exporter": "python",
   "pygments_lexer": "ipython3",
   "version": "3.11.4"
  }
 },
 "nbformat": 4,
 "nbformat_minor": 5
}
